{
 "cells": [
  {
   "cell_type": "markdown",
   "id": "b8224d3a-e93e-4cf9-9ac0-abd6890a463e",
   "metadata": {},
   "source": [
    "## reconstituting 4D matrices from individual 3D matrices"
   ]
  },
  {
   "cell_type": "code",
   "execution_count": 1,
   "id": "482b4ce6-6c09-413d-b9ff-5ce1358a1d74",
   "metadata": {
    "tags": []
   },
   "outputs": [],
   "source": [
    "import napari\n",
    "#from aicsimageio import AICSImage\n",
    "from skimage import io\n",
    "from medpy.io import load #to read the ACME outputs we need to use medpy. aicsimageio doesn't seem to be able to handle it"
   ]
  },
  {
   "cell_type": "code",
   "execution_count": 2,
   "id": "57005fba-1816-4529-8d42-98a990ce5e1a",
   "metadata": {
    "tags": []
   },
   "outputs": [],
   "source": [
    "from os import listdir,walk"
   ]
  },
  {
   "cell_type": "code",
   "execution_count": 3,
   "id": "964feb4b-28e1-45d4-9b4c-256482b4105a",
   "metadata": {
    "tags": []
   },
   "outputs": [],
   "source": [
    "import numpy as np\n",
    "from math import ceil, floor"
   ]
  },
  {
   "cell_type": "code",
   "execution_count": 4,
   "id": "da762561-479d-40b0-8560-bad2443c7cbc",
   "metadata": {
    "tags": []
   },
   "outputs": [
    {
     "name": "stderr",
     "output_type": "stream",
     "text": [
      "C:\\Users\\hkqur\\miniconda3\\envs\\devbio_2\\lib\\site-packages\\networkx\\utils\\backends.py:135: RuntimeWarning: networkx backend defined more than once: nx-loopback\n",
      "  backends.update(_get_backends(\"networkx.backends\"))\n"
     ]
    }
   ],
   "source": [
    "viewer = napari.Viewer(title='t26_acme_labelled_smad6')"
   ]
  },
  {
   "cell_type": "code",
   "execution_count": 5,
   "id": "c7fe54ba-8b99-4ba1-be21-008cb217f979",
   "metadata": {
    "tags": []
   },
   "outputs": [],
   "source": [
    "image_data, image_header = load('C:/Users/hkqur/Documents/napari/ACME_segmented/t26.czi_segmented.mha')"
   ]
  },
  {
   "cell_type": "code",
   "execution_count": 6,
   "id": "89d693a5-fff0-42c7-9979-b1b5308b97f0",
   "metadata": {
    "tags": []
   },
   "outputs": [
    {
     "data": {
      "text/plain": [
       "(154, 168, 130)"
      ]
     },
     "execution_count": 6,
     "metadata": {},
     "output_type": "execute_result"
    }
   ],
   "source": [
    "image_data.shape"
   ]
  },
  {
   "cell_type": "code",
   "execution_count": 7,
   "id": "389d52f1-80e8-457a-ac03-6760e7257215",
   "metadata": {
    "tags": []
   },
   "outputs": [
    {
     "data": {
      "text/plain": [
       "<Image layer 't26' at 0x20625a8d580>"
      ]
     },
     "execution_count": 7,
     "metadata": {},
     "output_type": "execute_result"
    }
   ],
   "source": [
    "viewer.add_image(image_data, name='t26')"
   ]
  },
  {
   "cell_type": "code",
   "execution_count": 8,
   "id": "b90b6e3c-a3df-44a7-bc63-f51628381260",
   "metadata": {
    "tags": []
   },
   "outputs": [
    {
     "data": {
      "text/plain": [
       "(154, 168, 130)"
      ]
     },
     "execution_count": 8,
     "metadata": {},
     "output_type": "execute_result"
    }
   ],
   "source": [
    "image_data.shape"
   ]
  },
  {
   "cell_type": "code",
   "execution_count": 9,
   "id": "1fce2e5a-bad3-4cdd-a706-b82f1d8105da",
   "metadata": {
    "tags": []
   },
   "outputs": [
    {
     "data": {
      "text/plain": [
       "'C:\\\\Users\\\\hkqur\\\\Documents\\\\napari'"
      ]
     },
     "execution_count": 9,
     "metadata": {},
     "output_type": "execute_result"
    }
   ],
   "source": [
    "pwd"
   ]
  },
  {
   "cell_type": "code",
   "execution_count": 10,
   "id": "90784ca4-39f2-4fc4-a68e-f0d3068f1c35",
   "metadata": {
    "tags": []
   },
   "outputs": [
    {
     "data": {
      "text/plain": [
       "['antpillmha',\n",
       " 't18.czi_segmented.mha',\n",
       " 't20.czi_segmented.mha',\n",
       " 't22.czi_segmented.mha',\n",
       " 't24.czi_segmented.mha',\n",
       " 't26.czi_segmented.mha',\n",
       " 't30.czi_segmented.mha',\n",
       " 't32.czi_segmented.mha',\n",
       " 't34.czi_segmented.mha',\n",
       " 't36.czi_segmented.mha',\n",
       " 't38.czi_segmented.mha',\n",
       " 't40.czi_segmented.mha']"
      ]
     },
     "execution_count": 10,
     "metadata": {},
     "output_type": "execute_result"
    }
   ],
   "source": [
    "directory_files = listdir('C:/Users/hkqur/Documents/napari/ACME_segmented/')\n",
    "directory_files"
   ]
  },
  {
   "cell_type": "code",
   "execution_count": 11,
   "id": "24443a73-eb2c-47f8-91ad-3795711ef901",
   "metadata": {
    "tags": []
   },
   "outputs": [],
   "source": [
    "directory_images = [i for i in directory_files if i[len(i)-4:]=='.mha']"
   ]
  },
  {
   "cell_type": "code",
   "execution_count": 12,
   "id": "530ed782-5d28-47bc-9ef7-78ffc9ed0f4b",
   "metadata": {
    "tags": []
   },
   "outputs": [
    {
     "data": {
      "text/plain": [
       "['t18.czi_segmented.mha',\n",
       " 't20.czi_segmented.mha',\n",
       " 't22.czi_segmented.mha',\n",
       " 't24.czi_segmented.mha',\n",
       " 't26.czi_segmented.mha',\n",
       " 't30.czi_segmented.mha',\n",
       " 't32.czi_segmented.mha',\n",
       " 't34.czi_segmented.mha',\n",
       " 't36.czi_segmented.mha',\n",
       " 't38.czi_segmented.mha',\n",
       " 't40.czi_segmented.mha']"
      ]
     },
     "execution_count": 12,
     "metadata": {},
     "output_type": "execute_result"
    }
   ],
   "source": [
    "directory_images"
   ]
  },
  {
   "cell_type": "code",
   "execution_count": 13,
   "id": "a29a423f-3fd5-4bb9-ae77-0bd25ad93a44",
   "metadata": {
    "tags": []
   },
   "outputs": [
    {
     "name": "stdout",
     "output_type": "stream",
     "text": [
      "C:/Users/hkqur/Documents/napari/ACME_segmented/t18.czi_segmented.mha\n",
      "C:/Users/hkqur/Documents/napari/ACME_segmented/t20.czi_segmented.mha\n",
      "C:/Users/hkqur/Documents/napari/ACME_segmented/t22.czi_segmented.mha\n",
      "C:/Users/hkqur/Documents/napari/ACME_segmented/t24.czi_segmented.mha\n",
      "C:/Users/hkqur/Documents/napari/ACME_segmented/t26.czi_segmented.mha\n",
      "C:/Users/hkqur/Documents/napari/ACME_segmented/t30.czi_segmented.mha\n",
      "C:/Users/hkqur/Documents/napari/ACME_segmented/t32.czi_segmented.mha\n",
      "C:/Users/hkqur/Documents/napari/ACME_segmented/t34.czi_segmented.mha\n",
      "C:/Users/hkqur/Documents/napari/ACME_segmented/t36.czi_segmented.mha\n",
      "C:/Users/hkqur/Documents/napari/ACME_segmented/t38.czi_segmented.mha\n",
      "C:/Users/hkqur/Documents/napari/ACME_segmented/t40.czi_segmented.mha\n",
      "[(154, 168, 130), (154, 168, 130), (154, 168, 130), (154, 168, 130), (154, 168, 130), (154, 168, 130), (154, 168, 130), (154, 168, 130), (154, 168, 123), (154, 168, 123), (154, 168, 123)]\n"
     ]
    }
   ],
   "source": [
    "array_size_list = []\n",
    "for a in range(0,(len(directory_images))):\n",
    "    print('C:/Users/hkqur/Documents/napari/ACME_segmented/{}'.format(directory_images[a]))\n",
    "    loaded_image, loaded_metadata = load('C:/Users/hkqur/Documents/napari/ACME_segmented/'+str(directory_images[a]))\n",
    "    loaded_image_shape = loaded_image.shape\n",
    "    array_size_list.append(loaded_image_shape)\n",
    "    \n",
    "print(array_size_list)\n",
    "max_array_size = max(array_size_list)\n",
    "    "
   ]
  },
  {
   "cell_type": "code",
   "execution_count": 14,
   "id": "24e17221-a3d2-4c6f-b8a5-99906075af45",
   "metadata": {
    "tags": []
   },
   "outputs": [
    {
     "name": "stdout",
     "output_type": "stream",
     "text": [
      "C:/Users/hkqur/Documents/napari/ACME_segmented/t18.czi_segmented.mha\n",
      "(154, 168, 130)\n",
      "C:/Users/hkqur/Documents/napari/ACME_segmented/t20.czi_segmented.mha\n",
      "loaded_image: (154, 168, 130), image_array: (154, 168, 130)\n",
      "C:/Users/hkqur/Documents/napari/ACME_segmented/t22.czi_segmented.mha\n",
      "loaded_image: (154, 168, 130), image_array: (154, 168, 130)\n",
      "C:/Users/hkqur/Documents/napari/ACME_segmented/t24.czi_segmented.mha\n",
      "loaded_image: (154, 168, 130), image_array: (154, 168, 130)\n",
      "C:/Users/hkqur/Documents/napari/ACME_segmented/t26.czi_segmented.mha\n",
      "loaded_image: (154, 168, 130), image_array: (154, 168, 130)\n",
      "C:/Users/hkqur/Documents/napari/ACME_segmented/t30.czi_segmented.mha\n",
      "loaded_image: (154, 168, 130), image_array: (154, 168, 130)\n",
      "C:/Users/hkqur/Documents/napari/ACME_segmented/t32.czi_segmented.mha\n",
      "loaded_image: (154, 168, 130), image_array: (154, 168, 130)\n",
      "C:/Users/hkqur/Documents/napari/ACME_segmented/t34.czi_segmented.mha\n",
      "loaded_image: (154, 168, 130), image_array: (154, 168, 130)\n",
      "C:/Users/hkqur/Documents/napari/ACME_segmented/t36.czi_segmented.mha\n",
      "loaded_image: (154, 168, 123), image_array: (154, 168, 130)\n",
      "size mismatch\n",
      "first_image_size_z = 130 z_diff= 7\n",
      "123 130\n",
      "z_padding=  4\n",
      "following PAD- loaded_image: (154, 168, 130), image_array: (154, 168, 130)\n",
      "C:/Users/hkqur/Documents/napari/ACME_segmented/t38.czi_segmented.mha\n",
      "loaded_image: (154, 168, 123), image_array: (154, 168, 130)\n",
      "size mismatch\n",
      "first_image_size_z = 130 z_diff= 7\n",
      "123 130\n",
      "z_padding=  4\n",
      "following PAD- loaded_image: (154, 168, 130), image_array: (154, 168, 130)\n",
      "C:/Users/hkqur/Documents/napari/ACME_segmented/t40.czi_segmented.mha\n",
      "loaded_image: (154, 168, 123), image_array: (154, 168, 130)\n",
      "size mismatch\n",
      "first_image_size_z = 130 z_diff= 7\n",
      "123 130\n",
      "z_padding=  4\n",
      "following PAD- loaded_image: (154, 168, 130), image_array: (154, 168, 130)\n"
     ]
    }
   ],
   "source": [
    "# 2024-05-16: need to obtain biggest array and use that as template array that other smaller images need to pad up to. Just using the first image may not always work.\n",
    "# reconstitute 4D image from disapparate ACME outputs so can all be labelling in one go in Napari.\n",
    "\n",
    "array_3d_list = []\n",
    "for a in range(0,(len(directory_images))):\n",
    "    print('C:/Users/hkqur/Documents/napari/ACME_segmented/{}'.format(directory_images[a]))\n",
    "    loaded_image, loaded_metadata = load('C:/Users/hkqur/Documents/napari/ACME_segmented/'+str(directory_images[a]))\n",
    "    #print(loaded_image)\n",
    "    array_x,array_y,array_z=loaded_image.shape\n",
    "        \n",
    "    if a==0: #begin 4D array by adding first image to it\n",
    "        image_array = loaded_image\n",
    "        #print(image_array)\n",
    "        print(image_array.shape)\n",
    "        first_image_array = image_array\n",
    "        first_image_size_x,first_image_size_y,first_image_size_z = image_array.shape\n",
    "        first_image_size = loaded_image.shape\n",
    "        array_3d_list.append(loaded_image)\n",
    "        \n",
    "        \n",
    "    else:\n",
    "        if first_image_size == loaded_image.shape: #check if dimensions of previous image and current image are the same. if the same no processing needed, just add image to array and proceed\n",
    "            print('loaded_image: {}, image_array: {}'.format(loaded_image.shape, image_array.shape))\n",
    "            #image_array = np.stack((image_array,loaded_image), axis=-1)\n",
    "            array_3d_list.append(loaded_image)\n",
    "        else: #if dimensions are mismatched, centre the images\n",
    "            print('loaded_image: {}, image_array: {}'.format(loaded_image.shape, image_array.shape))\n",
    "            print('size mismatch')\n",
    "\n",
    "            x_diff = abs(array_x-first_image_size_x)\n",
    "            y_diff = abs(array_y-first_image_size_y)\n",
    "            z_diff = abs(array_z-first_image_size_z)\n",
    "            \n",
    "            print('first_image_size_z = {} z_diff= {}'.format(first_image_size_z,z_diff))\n",
    "            y_padding = ceil(y_diff/2)\n",
    "            x_padding = ceil(x_diff/2)\n",
    "            z_padding = ceil(z_diff/2)\n",
    "            print(array_z,first_image_size_z)\n",
    "            print('z_padding= ', z_padding)\n",
    "            \n",
    "            if z_diff%2!=0:\n",
    "                z_pad_left = ceil(z_diff/2)\n",
    "                z_pad_right = floor(z_diff/2)\n",
    "                loaded_image = np.pad(loaded_image,((x_padding,x_padding),(y_padding,y_padding),(z_pad_left,z_pad_right)),'constant')\n",
    "                \n",
    "            else:       \n",
    "                loaded_image = np.pad(loaded_image,((x_padding,x_padding),(y_padding,y_padding),(z_padding,z_padding)),'constant')\n",
    "            #np.pad(loaded_image,((x_diff,x_diff),(y_diff,y_diff),(z_diff,z_diff)),'constant')\n",
    "            print('following PAD- loaded_image: {}, image_array: {}'.format(loaded_image.shape, image_array.shape))\n",
    "            \n",
    "            #image_array = np.stack((image_array,loaded_image), axis=-1)\n",
    "            array_3d_list.append(loaded_image)\n",
    "    "
   ]
  },
  {
   "cell_type": "code",
   "execution_count": 15,
   "id": "a9610aff-a2c8-4950-bd67-a321a2d5b139",
   "metadata": {
    "tags": []
   },
   "outputs": [],
   "source": [
    "image_array=np.array(array_3d_list)"
   ]
  },
  {
   "cell_type": "code",
   "execution_count": 16,
   "id": "acad49ef-b9cd-4d06-9a36-052ee72529d1",
   "metadata": {
    "tags": []
   },
   "outputs": [
    {
     "data": {
      "text/plain": [
       "(11, 154, 168, 130)"
      ]
     },
     "execution_count": 16,
     "metadata": {},
     "output_type": "execute_result"
    }
   ],
   "source": [
    "image_array.shape"
   ]
  },
  {
   "cell_type": "code",
   "execution_count": 17,
   "id": "86c2965c-1cb7-459c-8850-fff92972d21f",
   "metadata": {
    "tags": []
   },
   "outputs": [
    {
     "data": {
      "text/plain": [
       "<Image layer 'image_array' at 0x2062769f910>"
      ]
     },
     "execution_count": 17,
     "metadata": {},
     "output_type": "execute_result"
    }
   ],
   "source": [
    "viewer.add_image(image_array,name='image_array')"
   ]
  },
  {
   "cell_type": "markdown",
   "id": "1ae127c7-36b1-48ef-b2c1-f97ebc7b4b12",
   "metadata": {},
   "source": [
    "# to do\n",
    "\n",
    "import the raw data to be overlaid by the imported ACME segmentation. Make sure that timepoints match up."
   ]
  },
  {
   "cell_type": "code",
   "execution_count": null,
   "id": "301054e6-6385-44ff-b77c-1044692216e7",
   "metadata": {},
   "outputs": [],
   "source": []
  }
 ],
 "metadata": {
  "kernelspec": {
   "display_name": "Python 3 (ipykernel)",
   "language": "python",
   "name": "python3"
  },
  "language_info": {
   "codemirror_mode": {
    "name": "ipython",
    "version": 3
   },
   "file_extension": ".py",
   "mimetype": "text/x-python",
   "name": "python",
   "nbconvert_exporter": "python",
   "pygments_lexer": "ipython3",
   "version": "3.9.19"
  }
 },
 "nbformat": 4,
 "nbformat_minor": 5
}
