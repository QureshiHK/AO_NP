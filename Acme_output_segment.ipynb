{
 "cells": [
  {
   "cell_type": "markdown",
   "id": "b8224d3a-e93e-4cf9-9ac0-abd6890a463e",
   "metadata": {},
   "source": [
    "## reconstituting 4D matrices from individual 3D matrices"
   ]
  },
  {
   "cell_type": "code",
   "execution_count": 1,
   "id": "482b4ce6-6c09-413d-b9ff-5ce1358a1d74",
   "metadata": {
    "tags": []
   },
   "outputs": [],
   "source": [
    "import napari\n",
    "#from aicsimageio import AICSImage\n",
    "from skimage import io\n",
    "from medpy.io import load #to read the ACME outputs we need to use medpy. aicsimageio doesn't seem to be able to handle it"
   ]
  },
  {
   "cell_type": "code",
   "execution_count": 2,
   "id": "57005fba-1816-4529-8d42-98a990ce5e1a",
   "metadata": {
    "tags": []
   },
   "outputs": [],
   "source": [
    "from os import listdir,walk"
   ]
  },
  {
   "cell_type": "code",
   "execution_count": 3,
   "id": "964feb4b-28e1-45d4-9b4c-256482b4105a",
   "metadata": {
    "tags": []
   },
   "outputs": [],
   "source": [
    "import numpy as np\n",
    "from math import ceil, floor"
   ]
  },
  {
   "cell_type": "code",
   "execution_count": 4,
   "id": "da762561-479d-40b0-8560-bad2443c7cbc",
   "metadata": {
    "tags": []
   },
   "outputs": [
    {
     "name": "stderr",
     "output_type": "stream",
     "text": [
      "C:\\Users\\hkqur\\miniconda3\\envs\\devbio_2\\lib\\site-packages\\networkx\\utils\\backends.py:135: RuntimeWarning: networkx backend defined more than once: nx-loopback\n",
      "  backends.update(_get_backends(\"networkx.backends\"))\n"
     ]
    }
   ],
   "source": [
    "viewer = napari.Viewer(title='s3_acme_labelled_smad6')"
   ]
  },
  {
   "cell_type": "code",
   "execution_count": 5,
   "id": "a05057aa-35fc-41eb-aa77-e5c1d875edc4",
   "metadata": {},
   "outputs": [],
   "source": [
    "dir_pth = 'C:/Users/hkqur/Documents/napari/smad6_3/base_im/'"
   ]
  },
  {
   "cell_type": "code",
   "execution_count": 20,
   "id": "8eb73e06-df12-4501-aa96-fd6baaa3f45f",
   "metadata": {},
   "outputs": [],
   "source": [
    "# reconstitute 4D image from disapparate ACME outputs so can all be labelling in one go in Napari.\n",
    "\n",
    "class frame_rebuild(): #rebuilt functions in class form, so can instantiate multiple objects #2025-02-20 HQ - specify the directory path and the file extension you are searching for in the directory, in this case MHA\n",
    "    # 2024-05-16: need to obtain biggest array and use that as template array that other smaller images need to pad up to. Just using the first image may not always work. #2025-02-19: HQ NB, indeed the approach wasn't succesful when frame sizes peaked beyond the firt frame so this has been reworked.\n",
    "    \n",
    "    def max_array_size(self, dir_path):\n",
    "        directory_files = listdir(dir_pth)\n",
    "        #directory_files\n",
    "        #input file extension input argument here\n",
    "        directory_images = [i for i in directory_files if i[len(i)-4:]=='.mha']\n",
    "        \n",
    "        array_size_list = []\n",
    "        for a in range(0,(len(directory_images))):\n",
    "            print(dir_pth,'{}'.format(directory_images[a]))\n",
    "            loaded_image, loaded_metadata = load(dir_pth+str(directory_images[a]))\n",
    "            loaded_image_shape = loaded_image.shape\n",
    "            array_size_list.append(loaded_image_shape)\n",
    "        #print(array_size_list)\n",
    "        #max_array_size = max(array_size_list)\n",
    "        \n",
    "        # 2025-02-18 HQ - generate maximum possible frame size by taking max x y z from list of all dimensions\n",
    "        max_size=(max([x[0] for x in array_size_list]),\n",
    "        max([x[1] for x in array_size_list]),\n",
    "        max([x[2] for x in array_size_list]))\n",
    "        \n",
    "        #2025-02-18: HQ reworked to work on max possible dimensions. #2025-02-24: HQ removed separate function and integrated with max_array_size function to work more smoothly in class (only require one input now)\n",
    "        array_3d_list = []\n",
    "        for a in range(0,(len(directory_images))):\n",
    "            print(dir_pth,'{}'.format(directory_images[a]))\n",
    "            loaded_image, loaded_metadata = load(dir_pth+str(directory_images[a]))\n",
    "            #print(loaded_image)\n",
    "            array_x,array_y,array_z=loaded_image.shape\n",
    "            first_image_size_x,first_image_size_y,first_image_size_z = max_size\n",
    "                \n",
    "        \n",
    "            if max_size == loaded_image.shape: #check if dimensions of previous image and current image are the same. if the same no processing needed, just add image to array and proceed\n",
    "                #print('loaded_image: {}, image_array: {}'.format(loaded_image.shape, image_array.shape))\n",
    "                #image_array = np.stack((image_array,loaded_image), axis=-1)\n",
    "                \n",
    "                array_3d_list.append(loaded_image)\n",
    "        \n",
    "        \n",
    "            else: #if dimensions are mismatched, centre the images\n",
    "                #print('loaded_image: {}, image_array: {}'.format(loaded_image.shape, image_array.shape))\n",
    "                print('size mismatch')\n",
    "                x_diff = abs(array_x-first_image_size_x)\n",
    "                y_diff = abs(array_y-first_image_size_y)\n",
    "                z_diff = abs(array_z-first_image_size_z)\n",
    "                    \n",
    "                print('first_image_size_z = {} z_diff= {}'.format(first_image_size_z,z_diff))\n",
    "                y_padding = ceil(y_diff/2)\n",
    "                x_padding = ceil(x_diff/2)\n",
    "                z_padding = ceil(z_diff/2)\n",
    "                print(array_z,first_image_size_z)\n",
    "                print('z_padding= ', z_padding)\n",
    "                    \n",
    "                if z_diff%2!=0:\n",
    "                    z_pad_left = ceil(z_diff/2)\n",
    "                    z_pad_right = floor(z_diff/2)\n",
    "                    #print(\"z_pad_left, \",z_pad_left, \"z_pad_right, \", z_pad_right, \"full, \", first_image_size[2], \"mid, \", (first_image_size[2])-z_pad_right-z_pad_left)\n",
    "                    #len(first_image_size[2])-z_pad_right\n",
    "                    #print(\"first_image\", (first_image_size[2]))\n",
    "                    print(\"loaded_image\", (loaded_image.shape[2]))\n",
    "                    loaded_image = np.pad(loaded_image,((x_padding,x_padding),(y_padding,y_padding),(z_pad_left,z_pad_right)),'constant')\n",
    "        \n",
    "        \n",
    "                else:       \n",
    "                    loaded_image = np.pad(loaded_image,((x_padding,x_padding),(y_padding,y_padding),(z_padding,z_padding)),'constant')\n",
    "        \n",
    "                #np.pad(loaded_image,((x_diff,x_diff),(y_diff,y_diff),(z_diff,z_diff)),'constant')\n",
    "                #print('following PAD- loaded_image: {}, image_array: {}'.format(loaded_image.shape, image_array.shape))\n",
    "                #print(\"z_pad_left, \",z_pad_left, \"z_pad_right, \", z_pad_right, \"full, \", first_image_size[2], \"mid, \", (first_image_size[2])-z_pad_right-z_pad_left)\n",
    "                    \n",
    "                #image_array = np.stack((image_array,loaded_image), axis=-1)\n",
    "                #print(\"size check, \", loaded_image.shape, first_image_size)\n",
    "                print(\"z_diff \",z_diff)\n",
    "                array_3d_list.append(loaded_image)\n",
    "        return np.array(array_3d_list)\n",
    "\n",
    "        def __init__(self):\n",
    "            return max_array_size(dir_path)\n",
    "            "
   ]
  },
  {
   "cell_type": "code",
   "execution_count": 21,
   "id": "74e72675-bf0d-4052-b47f-0bd989c21e51",
   "metadata": {},
   "outputs": [],
   "source": [
    "outarray = frame_rebuild()"
   ]
  },
  {
   "cell_type": "code",
   "execution_count": 24,
   "id": "5790c94b-2350-4665-bbbf-a9f99d7a8192",
   "metadata": {},
   "outputs": [
    {
     "name": "stdout",
     "output_type": "stream",
     "text": [
      "C:/Users/hkqur/Documents/napari/smad6_3/base_im/ s3_001.czi.mha\n",
      "C:/Users/hkqur/Documents/napari/smad6_3/base_im/ s3_002.czi.mha\n",
      "C:/Users/hkqur/Documents/napari/smad6_3/base_im/ s3_003.czi.mha\n",
      "C:/Users/hkqur/Documents/napari/smad6_3/base_im/ s3_004.czi.mha\n",
      "C:/Users/hkqur/Documents/napari/smad6_3/base_im/ s3_005.czi.mha\n",
      "C:/Users/hkqur/Documents/napari/smad6_3/base_im/ s3_006.czi.mha\n",
      "C:/Users/hkqur/Documents/napari/smad6_3/base_im/ s3_007.czi.mha\n",
      "C:/Users/hkqur/Documents/napari/smad6_3/base_im/ s3_008.czi.mha\n",
      "C:/Users/hkqur/Documents/napari/smad6_3/base_im/ s3_009.czi.mha\n",
      "C:/Users/hkqur/Documents/napari/smad6_3/base_im/ s3_010.czi.mha\n",
      "C:/Users/hkqur/Documents/napari/smad6_3/base_im/ s3_011.czi.mha\n",
      "C:/Users/hkqur/Documents/napari/smad6_3/base_im/ s3_012.czi.mha\n",
      "C:/Users/hkqur/Documents/napari/smad6_3/base_im/ s3_013.czi.mha\n",
      "C:/Users/hkqur/Documents/napari/smad6_3/base_im/ s3_014.czi.mha\n",
      "C:/Users/hkqur/Documents/napari/smad6_3/base_im/ s3_015.czi.mha\n",
      "C:/Users/hkqur/Documents/napari/smad6_3/base_im/ s3_016.czi.mha\n",
      "C:/Users/hkqur/Documents/napari/smad6_3/base_im/ s3_017.czi.mha\n",
      "C:/Users/hkqur/Documents/napari/smad6_3/base_im/ s3_018.czi.mha\n",
      "C:/Users/hkqur/Documents/napari/smad6_3/base_im/ s3_019.czi.mha\n",
      "C:/Users/hkqur/Documents/napari/smad6_3/base_im/ s3_001.czi.mha\n",
      "size mismatch\n",
      "first_image_size_z = 107 z_diff= 8\n",
      "99 107\n",
      "z_padding=  4\n",
      "z_diff  8\n",
      "C:/Users/hkqur/Documents/napari/smad6_3/base_im/ s3_002.czi.mha\n",
      "size mismatch\n",
      "first_image_size_z = 107 z_diff= 8\n",
      "99 107\n",
      "z_padding=  4\n",
      "z_diff  8\n",
      "C:/Users/hkqur/Documents/napari/smad6_3/base_im/ s3_003.czi.mha\n",
      "size mismatch\n",
      "first_image_size_z = 107 z_diff= 8\n",
      "99 107\n",
      "z_padding=  4\n",
      "z_diff  8\n",
      "C:/Users/hkqur/Documents/napari/smad6_3/base_im/ s3_004.czi.mha\n",
      "size mismatch\n",
      "first_image_size_z = 107 z_diff= 8\n",
      "99 107\n",
      "z_padding=  4\n",
      "z_diff  8\n",
      "C:/Users/hkqur/Documents/napari/smad6_3/base_im/ s3_005.czi.mha\n",
      "size mismatch\n",
      "first_image_size_z = 107 z_diff= 8\n",
      "99 107\n",
      "z_padding=  4\n",
      "z_diff  8\n",
      "C:/Users/hkqur/Documents/napari/smad6_3/base_im/ s3_006.czi.mha\n",
      "size mismatch\n",
      "first_image_size_z = 107 z_diff= 8\n",
      "99 107\n",
      "z_padding=  4\n",
      "z_diff  8\n",
      "C:/Users/hkqur/Documents/napari/smad6_3/base_im/ s3_007.czi.mha\n",
      "size mismatch\n",
      "first_image_size_z = 107 z_diff= 8\n",
      "99 107\n",
      "z_padding=  4\n",
      "z_diff  8\n",
      "C:/Users/hkqur/Documents/napari/smad6_3/base_im/ s3_008.czi.mha\n",
      "C:/Users/hkqur/Documents/napari/smad6_3/base_im/ s3_009.czi.mha\n",
      "C:/Users/hkqur/Documents/napari/smad6_3/base_im/ s3_010.czi.mha\n",
      "size mismatch\n",
      "first_image_size_z = 107 z_diff= 9\n",
      "98 107\n",
      "z_padding=  5\n",
      "loaded_image 98\n",
      "z_diff  9\n",
      "C:/Users/hkqur/Documents/napari/smad6_3/base_im/ s3_011.czi.mha\n",
      "size mismatch\n",
      "first_image_size_z = 107 z_diff= 9\n",
      "98 107\n",
      "z_padding=  5\n",
      "loaded_image 98\n",
      "z_diff  9\n",
      "C:/Users/hkqur/Documents/napari/smad6_3/base_im/ s3_012.czi.mha\n",
      "size mismatch\n",
      "first_image_size_z = 107 z_diff= 9\n",
      "98 107\n",
      "z_padding=  5\n",
      "loaded_image 98\n",
      "z_diff  9\n",
      "C:/Users/hkqur/Documents/napari/smad6_3/base_im/ s3_013.czi.mha\n",
      "size mismatch\n",
      "first_image_size_z = 107 z_diff= 9\n",
      "98 107\n",
      "z_padding=  5\n",
      "loaded_image 98\n",
      "z_diff  9\n",
      "C:/Users/hkqur/Documents/napari/smad6_3/base_im/ s3_014.czi.mha\n",
      "size mismatch\n",
      "first_image_size_z = 107 z_diff= 9\n",
      "98 107\n",
      "z_padding=  5\n",
      "loaded_image 98\n",
      "z_diff  9\n",
      "C:/Users/hkqur/Documents/napari/smad6_3/base_im/ s3_015.czi.mha\n",
      "size mismatch\n",
      "first_image_size_z = 107 z_diff= 9\n",
      "98 107\n",
      "z_padding=  5\n",
      "loaded_image 98\n",
      "z_diff  9\n",
      "C:/Users/hkqur/Documents/napari/smad6_3/base_im/ s3_016.czi.mha\n",
      "size mismatch\n",
      "first_image_size_z = 107 z_diff= 9\n",
      "98 107\n",
      "z_padding=  5\n",
      "loaded_image 98\n",
      "z_diff  9\n",
      "C:/Users/hkqur/Documents/napari/smad6_3/base_im/ s3_017.czi.mha\n",
      "size mismatch\n",
      "first_image_size_z = 107 z_diff= 9\n",
      "98 107\n",
      "z_padding=  5\n",
      "loaded_image 98\n",
      "z_diff  9\n",
      "C:/Users/hkqur/Documents/napari/smad6_3/base_im/ s3_018.czi.mha\n",
      "size mismatch\n",
      "first_image_size_z = 107 z_diff= 9\n",
      "98 107\n",
      "z_padding=  5\n",
      "loaded_image 98\n",
      "z_diff  9\n",
      "C:/Users/hkqur/Documents/napari/smad6_3/base_im/ s3_019.czi.mha\n",
      "size mismatch\n",
      "first_image_size_z = 107 z_diff= 9\n",
      "98 107\n",
      "z_padding=  5\n",
      "loaded_image 98\n",
      "z_diff  9\n"
     ]
    }
   ],
   "source": [
    "im_array = outarray.max_array_size(dir_pth)"
   ]
  },
  {
   "cell_type": "code",
   "execution_count": 25,
   "id": "86c2965c-1cb7-459c-8850-fff92972d21f",
   "metadata": {
    "tags": []
   },
   "outputs": [
    {
     "data": {
      "text/plain": [
       "<Image layer 'image_array' at 0x21089229fd0>"
      ]
     },
     "execution_count": 25,
     "metadata": {},
     "output_type": "execute_result"
    }
   ],
   "source": [
    "viewer.add_image(im_array,name='image_array')"
   ]
  },
  {
   "cell_type": "markdown",
   "id": "1ae127c7-36b1-48ef-b2c1-f97ebc7b4b12",
   "metadata": {},
   "source": [
    "# to do\n",
    "\n",
    "import the raw data to be overlaid by the imported ACME segmentation. Make sure that timepoints match up."
   ]
  },
  {
   "cell_type": "code",
   "execution_count": null,
   "id": "301054e6-6385-44ff-b77c-1044692216e7",
   "metadata": {},
   "outputs": [],
   "source": []
  },
  {
   "cell_type": "code",
   "execution_count": null,
   "id": "1cca50b0-5d65-48ed-8253-1ab90186926f",
   "metadata": {},
   "outputs": [],
   "source": []
  }
 ],
 "metadata": {
  "kernelspec": {
   "display_name": "Python 3 (ipykernel)",
   "language": "python",
   "name": "python3"
  },
  "language_info": {
   "codemirror_mode": {
    "name": "ipython",
    "version": 3
   },
   "file_extension": ".py",
   "mimetype": "text/x-python",
   "name": "python",
   "nbconvert_exporter": "python",
   "pygments_lexer": "ipython3",
   "version": "3.9.19"
  }
 },
 "nbformat": 4,
 "nbformat_minor": 5
}
